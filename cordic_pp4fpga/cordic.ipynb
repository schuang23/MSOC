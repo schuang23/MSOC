{
 "cells": [
  {
   "cell_type": "code",
   "execution_count": null,
   "metadata": {
    "scrolled": true
   },
   "outputs": [],
   "source": [
    "from __future__ import print_function\n",
    "\n",
    "import sys\n",
    "import math\n",
    "from decimal import Decimal\n",
    "sys.path.append('/home/xilinx')\n",
    "from pynq import Overlay\n",
    "\n",
    "if __name__ == \"__main__\":\n",
    "    print(\"Entry:\", sys.argv[0])\n",
    "    print(\"System argument(s):\", len(sys.argv))\n",
    "\n",
    "    print(\"Start of \\\"\" + sys.argv[0] + \"\\\"\")\n",
    "\n",
    "    ol = Overlay(\"/home/xilinx/IPBitFile/cordic.bit\")\n",
    "    regIP = ol.cordic_0\n",
    "    \n",
    "    '''for i in range(9):\n",
    "        print(\"============================\")\n",
    "        for j in range(9):\n",
    "            regIP.write(0x10, i + 1)\n",
    "            regIP.write(0x18, j + 1)\n",
    "            Res = regIP.read(0x20)\n",
    "            print(str(i + 1) + \" * \" + str(j + 1) + \" = \" + str(Res))'''\n",
    "    terr_s = 0\n",
    "    terr_c = 0\n",
    "    for i in range(90):\n",
    "        radian = i*math.pi/180\n",
    "        s = c = 0\n",
    "        regIP.write(0x10, int(radian))\n",
    "        regIP.write(0x18, s)\n",
    "        regIP.write(0x20, c)\n",
    "        regIP.write(0x00, 0x01)\n",
    "        \n",
    "        while (regIP.read(0x00) & 0x4) == 0x0:\n",
    "            continue\n",
    "        err_s = math.sin(radian) - s\n",
    "        err_c = math.sin(radian) - c\n",
    "        terr_s += err_s\n",
    "        terr_c += err_c\n",
    "    print('total error sin = {}; total error cos = {}'/format(terr_s, terr_c))\n",
    "    print(\"============================\")\n",
    "    print(\"Exit process\")"
   ]
  },
  {
   "cell_type": "code",
   "execution_count": null,
   "metadata": {},
   "outputs": [],
   "source": []
  }
 ],
 "metadata": {
  "kernelspec": {
   "display_name": "Python 3",
   "language": "python",
   "name": "python3"
  },
  "language_info": {
   "codemirror_mode": {
    "name": "ipython",
    "version": 3
   },
   "file_extension": ".py",
   "mimetype": "text/x-python",
   "name": "python",
   "nbconvert_exporter": "python",
   "pygments_lexer": "ipython3",
   "version": "3.6.5"
  }
 },
 "nbformat": 4,
 "nbformat_minor": 2
}