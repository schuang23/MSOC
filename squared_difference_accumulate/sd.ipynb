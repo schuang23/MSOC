{
 "cells": [
  {
   "cell_type": "code",
   "execution_count": 46,
   "metadata": {},
   "outputs": [
    {
     "name": "stdout",
     "output_type": "stream",
     "text": [
      "[42 20 45]\n",
      "[13 55 21]\n",
      "acc_test =  2642\n",
      "acc =  2642\n",
      "PASS\n"
     ]
    }
   ],
   "source": [
    "import pynq.lib.dma\n",
    "import numpy as np\n",
    "import sys \n",
    "sys.path.append('/home/xilinx')\n",
    "from pynq import allocate\n",
    "import random\n",
    "mmol = pynq.Overlay(\"/home/xilinx/IPBitFile/sd.bit\")\n",
    "IP = mmol.diff_sq_acc_0\n",
    "\n",
    "A = np.zeros((3,), dtype=np.int)\n",
    "B = np.zeros((3,), dtype=np.int)\n",
    "acc_test = 0\n",
    "for i in range(3):\n",
    "    A[i] = random.randint(1,100)\n",
    "    B[i] = random.randint(1,100)\n",
    "print(A)\n",
    "print(B)\n",
    "for i in range(3):\n",
    "    diff = A[i] - B[i]\n",
    "    diff2 = diff*diff\n",
    "    acc_test += diff2\n",
    "for i in range(3):\n",
    "    IP.write(0x20+i*4,int(A[i]))\n",
    "    IP.write(0x40+i*4,int(B[i])) \n",
    "IP.write(0x00, 0x01)\n",
    "while (IP.read(0x00) & 0x4) == 0x0:\n",
    "    continue\n",
    "acc = IP.read(0x60)\n",
    "print('acc_test = ',acc_test)\n",
    "print('acc = ',acc)\n",
    "if(acc_test == acc):\n",
    "    print('PASS')\n",
    "else:\n",
    "    print('FALSE')\n"
   ]
  },
  {
   "cell_type": "code",
   "execution_count": null,
   "metadata": {},
   "outputs": [],
   "source": []
  },
  {
   "cell_type": "code",
   "execution_count": null,
   "metadata": {},
   "outputs": [],
   "source": []
  }
 ],
 "metadata": {
  "kernelspec": {
   "display_name": "Python 3",
   "language": "python",
   "name": "python3"
  },
  "language_info": {
   "codemirror_mode": {
    "name": "ipython",
    "version": 3
   },
   "file_extension": ".py",
   "mimetype": "text/x-python",
   "name": "python",
   "nbconvert_exporter": "python",
   "pygments_lexer": "ipython3",
   "version": "3.6.5"
  }
 },
 "nbformat": 4,
 "nbformat_minor": 2
}
