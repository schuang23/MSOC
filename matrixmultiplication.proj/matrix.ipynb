{
 "cells": [
  {
   "cell_type": "code",
   "execution_count": 27,
   "metadata": {},
   "outputs": [
    {
     "name": "stdout",
     "output_type": "stream",
     "text": [
      "PASS\n"
     ]
    }
   ],
   "source": [
    "import pynq.lib.dma\n",
    "import numpy as np\n",
    "import sys \n",
    "sys.path.append('/home/xilinx')\n",
    "from pynq import allocate\n",
    "mmol = pynq.Overlay(\"/home/xilinx/IPBitFile/mat.bit\")\n",
    "IP = mmol.matrixmul_0\n",
    "\n",
    "A = np.zeros((32,32), dtype=np.int)\n",
    "B = np.zeros((32,32), dtype=np.int)\n",
    "#AB = np.zeros((32,32), dtype=np.int)\n",
    "\n",
    "for i in range(32):\n",
    "    for j in range(32):\n",
    "        A[i][j] = 2;\n",
    "        B[i][j] = 2;\n",
    "for i in range(32*32):\n",
    "    IP.write(0x1000+i*4,2) \n",
    "    IP.write(0x2000+i*4,2) \n",
    "\n",
    "IP.write(0x00, 0x01)\n",
    "\n",
    "while (IP.read(0x00) & 0x4) == 0x0:\n",
    "    continue\n",
    "check = 0    \n",
    "for i in range(32*32):    \n",
    "    if (IP.read(0x3000+i*4) != 128):\n",
    "        check =1\n",
    "        print('FALSE')\n",
    "        break\n",
    "if(check == 0):\n",
    "    print('PASS')\n",
    "#print(A)\n",
    "#print(B)\n",
    "#print(AB)"
   ]
  },
  {
   "cell_type": "code",
   "execution_count": null,
   "metadata": {},
   "outputs": [],
   "source": []
  },
  {
   "cell_type": "code",
   "execution_count": null,
   "metadata": {},
   "outputs": [],
   "source": []
  }
 ],
 "metadata": {
  "kernelspec": {
   "display_name": "Python 3",
   "language": "python",
   "name": "python3"
  },
  "language_info": {
   "codemirror_mode": {
    "name": "ipython",
    "version": 3
   },
   "file_extension": ".py",
   "mimetype": "text/x-python",
   "name": "python",
   "nbconvert_exporter": "python",
   "pygments_lexer": "ipython3",
   "version": "3.6.5"
  }
 },
 "nbformat": 4,
 "nbformat_minor": 2
}
